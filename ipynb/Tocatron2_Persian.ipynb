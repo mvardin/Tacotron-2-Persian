{
  "nbformat": 4,
  "nbformat_minor": 0,
  "metadata": {
    "colab": {
      "name": "Tocatron2-Persian",
      "provenance": [],
      "collapsed_sections": [],
      "include_colab_link": true
    },
    "kernelspec": {
      "display_name": "Python 3",
      "name": "python3"
    },
    "accelerator": "TPU"
  },
  "cells": [
    {
      "cell_type": "markdown",
      "metadata": {
        "id": "view-in-github",
        "colab_type": "text"
      },
      "source": [
        "<a href=\"https://colab.research.google.com/github/mvardin/Tacotron-2-Persian/blob/master/Tocatron2_Persian.ipynb\" target=\"_parent\"><img src=\"https://colab.research.google.com/assets/colab-badge.svg\" alt=\"Open In Colab\"/></a>"
      ]
    },
    {
      "cell_type": "markdown",
      "metadata": {
        "id": "gPvzp_BCkk-4"
      },
      "source": [
        "1- Install requirements and connect to google drive\n"
      ]
    },
    {
      "cell_type": "code",
      "metadata": {
        "id": "0xO3ZixTrbkW"
      },
      "source": [
        "!apt install espeak\n",
        "!apt-get install -y aria2\n",
        "!pip install segments"
      ],
      "execution_count": null,
      "outputs": []
    },
    {
      "cell_type": "code",
      "metadata": {
        "id": "00c11OM63ZyY",
        "colab": {
          "base_uri": "https://localhost:8080/"
        },
        "outputId": "ab9c5c1d-c6ae-4dc1-9009-db2cdfb323f0"
      },
      "source": [
        "from google.colab import drive\n",
        "drive.mount('/content/gdrive')"
      ],
      "execution_count": null,
      "outputs": [
        {
          "output_type": "stream",
          "text": [
            "Mounted at /content/gdrive\n"
          ],
          "name": "stdout"
        }
      ]
    },
    {
      "cell_type": "markdown",
      "metadata": {
        "id": "5QTuMuhkdgG8"
      },
      "source": [
        "2- Download CommonVoice dataset from server\n",
        "\n",
        "**If file exist in your gdrive , skip this code"
      ]
    },
    {
      "cell_type": "code",
      "metadata": {
        "id": "Dc8eclgqmtcs"
      },
      "source": [
        "!apt install -y aria2\n",
        "!aria2c -d ./ -x 16 \"https://drcaptcha.ir/temp/03.tar.gz\""
      ],
      "execution_count": null,
      "outputs": []
    },
    {
      "cell_type": "markdown",
      "metadata": {
        "id": "HlUadn3unJ2x"
      },
      "source": [
        "3- Extract tar file\n",
        "\n",
        "**If file exist in your gdrive , skip this code"
      ]
    },
    {
      "cell_type": "code",
      "metadata": {
        "id": "wzesPl9qoTAI"
      },
      "source": [
        "!tar -zxvf /content/gdrive/MyDrive/dataset.tar -C /content/gdrive/MyDrive/"
      ],
      "execution_count": null,
      "outputs": []
    },
    {
      "cell_type": "markdown",
      "metadata": {
        "id": "CJecw2iMpUuA"
      },
      "source": [
        "4- Clone tac2persian repository"
      ]
    },
    {
      "cell_type": "code",
      "metadata": {
        "id": "NHTiafripcL7",
        "colab": {
          "base_uri": "https://localhost:8080/"
        },
        "outputId": "6e71e4b9-f6fc-45f2-a1ed-7de99fbccb57"
      },
      "source": [
        "!git clone https://github.com/mvardin/Tacotron-2-Persian.git\n",
        "%cd Tacotron-2-Persian/"
      ],
      "execution_count": 11,
      "outputs": [
        {
          "output_type": "stream",
          "text": [
            "Cloning into 'Tacotron-2-Persian'...\n",
            "remote: Enumerating objects: 183, done.\u001b[K\n",
            "remote: Counting objects: 100% (53/53), done.\u001b[K\n",
            "remote: Compressing objects: 100% (52/52), done.\u001b[K\n",
            "remote: Total 183 (delta 25), reused 0 (delta 0), pack-reused 130\u001b[K\n",
            "Receiving objects: 100% (183/183), 295.75 KiB | 3.36 MiB/s, done.\n",
            "Resolving deltas: 100% (60/60), done.\n",
            "/content/Tacotron-2-Persian\n"
          ],
          "name": "stdout"
        }
      ]
    },
    {
      "cell_type": "markdown",
      "metadata": {
        "id": "tMqbKx12sRdZ"
      },
      "source": [
        "5- Preprocess dataset"
      ]
    },
    {
      "cell_type": "code",
      "metadata": {
        "id": "VEK4rwHtqQfw",
        "colab": {
          "base_uri": "https://localhost:8080/"
        },
        "outputId": "a7eaad35-7f7d-474e-a9e2-3274e2fe17c2"
      },
      "source": [
        "!python -m tac2persian.data_preprocessing.preprocess_commonvoice_fa --dataset_path=\"/content/gdrive/MyDrive/cv-corpus-7.0-2021-07-21/fa\" --output_path=\"/content/ppoutout/01\" --config_path=\"/content/Tacotron-2-Persian\" --num_workers=\"32\""
      ],
      "execution_count": null,
      "outputs": [
        {
          "output_type": "stream",
          "text": [
            "Preprocessing files for speaker 0/1\n",
            "Processing file 0/350\n",
            "Processing file 1/350\n",
            "Processing file 2/350\n",
            "Processing file 3/350\n",
            "Processing file 4/350\n",
            "Processing file 5/350\n",
            "Processing file 6/350\n",
            "Processing file 7/350\n",
            "Processing file 8/350\n",
            "Processing file 9/350\n",
            "Processing file 10/350\n",
            "Processing file 11/350\n",
            "Processing file 12/350\n",
            "Processing file 13/350\n",
            "Processing file 14/350\n",
            "Processing file 17/350\n",
            "Processing file 18/350\n",
            "Processing file 19/350\n",
            "Processing file 20/350\n",
            "Processing file 15/350\n",
            "Processing file 16/350\n",
            "Processing file 21/350\n",
            "Processing file 22/350\n",
            "Processing file 23/350\n",
            "Processing file 26/350\n",
            "Processing file 27/350\n",
            "Processing file 28/350\n",
            "Processing file 24/350\n",
            "Processing file 29/350\n",
            "Processing file 25/350\n",
            "Processing file 30/350\n",
            "Processing file 31/350\n",
            "/usr/local/lib/python3.7/dist-packages/librosa/core/audio.py:165: UserWarning: PySoundFile failed. Trying audioread instead.\n",
            "  warnings.warn(\"PySoundFile failed. Trying audioread instead.\")\n",
            "/usr/local/lib/python3.7/dist-packages/librosa/core/audio.py:165: UserWarning: PySoundFile failed. Trying audioread instead.\n",
            "  warnings.warn(\"PySoundFile failed. Trying audioread instead.\")\n",
            "/usr/local/lib/python3.7/dist-packages/librosa/core/audio.py:165: UserWarning: PySoundFile failed. Trying audioread instead.\n",
            "  warnings.warn(\"PySoundFile failed. Trying audioread instead.\")\n",
            "/usr/local/lib/python3.7/dist-packages/librosa/core/audio.py:165: UserWarning: PySoundFile failed. Trying audioread instead.\n",
            "  warnings.warn(\"PySoundFile failed. Trying audioread instead.\")\n",
            "/usr/local/lib/python3.7/dist-packages/librosa/core/audio.py:165: UserWarning: PySoundFile failed. Trying audioread instead.\n",
            "  warnings.warn(\"PySoundFile failed. Trying audioread instead.\")\n",
            "/usr/local/lib/python3.7/dist-packages/librosa/core/audio.py:165: UserWarning: PySoundFile failed. Trying audioread instead.\n",
            "  warnings.warn(\"PySoundFile failed. Trying audioread instead.\")\n",
            "/usr/local/lib/python3.7/dist-packages/librosa/core/audio.py:165: UserWarning: PySoundFile failed. Trying audioread instead.\n",
            "  warnings.warn(\"PySoundFile failed. Trying audioread instead.\")\n",
            "/usr/local/lib/python3.7/dist-packages/librosa/core/audio.py:165: UserWarning: PySoundFile failed. Trying audioread instead.\n",
            "  warnings.warn(\"PySoundFile failed. Trying audioread instead.\")\n",
            "/usr/local/lib/python3.7/dist-packages/librosa/core/audio.py:165: UserWarning: PySoundFile failed. Trying audioread instead.\n",
            "  warnings.warn(\"PySoundFile failed. Trying audioread instead.\")\n",
            "/usr/local/lib/python3.7/dist-packages/librosa/core/audio.py:165: UserWarning: PySoundFile failed. Trying audioread instead.\n",
            "  warnings.warn(\"PySoundFile failed. Trying audioread instead.\")\n",
            "/usr/local/lib/python3.7/dist-packages/librosa/core/audio.py:165: UserWarning: PySoundFile failed. Trying audioread instead.\n",
            "  warnings.warn(\"PySoundFile failed. Trying audioread instead.\")\n",
            "/usr/local/lib/python3.7/dist-packages/librosa/core/audio.py:165: UserWarning: PySoundFile failed. Trying audioread instead.\n",
            "  warnings.warn(\"PySoundFile failed. Trying audioread instead.\")\n",
            "/usr/local/lib/python3.7/dist-packages/librosa/core/audio.py:165: UserWarning: PySoundFile failed. Trying audioread instead.\n",
            "  warnings.warn(\"PySoundFile failed. Trying audioread instead.\")\n",
            "/usr/local/lib/python3.7/dist-packages/librosa/core/audio.py:165: UserWarning: PySoundFile failed. Trying audioread instead.\n",
            "  warnings.warn(\"PySoundFile failed. Trying audioread instead.\")\n",
            "/usr/local/lib/python3.7/dist-packages/librosa/core/audio.py:165: UserWarning: PySoundFile failed. Trying audioread instead.\n",
            "  warnings.warn(\"PySoundFile failed. Trying audioread instead.\")\n",
            "/usr/local/lib/python3.7/dist-packages/librosa/core/audio.py:165: UserWarning: PySoundFile failed. Trying audioread instead.\n",
            "  warnings.warn(\"PySoundFile failed. Trying audioread instead.\")\n",
            "/usr/local/lib/python3.7/dist-packages/librosa/core/audio.py:165: UserWarning: PySoundFile failed. Trying audioread instead.\n",
            "  warnings.warn(\"PySoundFile failed. Trying audioread instead.\")\n",
            "/usr/local/lib/python3.7/dist-packages/librosa/core/audio.py:165: UserWarning: PySoundFile failed. Trying audioread instead.\n",
            "  warnings.warn(\"PySoundFile failed. Trying audioread instead.\")\n",
            "/usr/local/lib/python3.7/dist-packages/librosa/core/audio.py:165: UserWarning: PySoundFile failed. Trying audioread instead.\n",
            "  warnings.warn(\"PySoundFile failed. Trying audioread instead.\")\n",
            "/usr/local/lib/python3.7/dist-packages/librosa/core/audio.py:165: UserWarning: PySoundFile failed. Trying audioread instead.\n",
            "  warnings.warn(\"PySoundFile failed. Trying audioread instead.\")\n",
            "/usr/local/lib/python3.7/dist-packages/librosa/core/audio.py:165: UserWarning: PySoundFile failed. Trying audioread instead.\n",
            "  warnings.warn(\"PySoundFile failed. Trying audioread instead.\")\n",
            "/usr/local/lib/python3.7/dist-packages/librosa/core/audio.py:165: UserWarning: PySoundFile failed. Trying audioread instead.\n",
            "  warnings.warn(\"PySoundFile failed. Trying audioread instead.\")\n",
            "/usr/local/lib/python3.7/dist-packages/librosa/core/audio.py:165: UserWarning: PySoundFile failed. Trying audioread instead.\n",
            "  warnings.warn(\"PySoundFile failed. Trying audioread instead.\")\n",
            "/usr/local/lib/python3.7/dist-packages/librosa/core/audio.py:165: UserWarning: PySoundFile failed. Trying audioread instead.\n",
            "  warnings.warn(\"PySoundFile failed. Trying audioread instead.\")\n",
            "/usr/local/lib/python3.7/dist-packages/librosa/core/audio.py:165: UserWarning: PySoundFile failed. Trying audioread instead.\n",
            "  warnings.warn(\"PySoundFile failed. Trying audioread instead.\")\n",
            "/usr/local/lib/python3.7/dist-packages/librosa/core/audio.py:165: UserWarning: PySoundFile failed. Trying audioread instead.\n",
            "  warnings.warn(\"PySoundFile failed. Trying audioread instead.\")\n",
            "/usr/local/lib/python3.7/dist-packages/librosa/core/audio.py:165: UserWarning: PySoundFile failed. Trying audioread instead.\n",
            "  warnings.warn(\"PySoundFile failed. Trying audioread instead.\")\n",
            "/usr/local/lib/python3.7/dist-packages/librosa/core/audio.py:165: UserWarning: PySoundFile failed. Trying audioread instead.\n",
            "  warnings.warn(\"PySoundFile failed. Trying audioread instead.\")\n",
            "/usr/local/lib/python3.7/dist-packages/librosa/core/audio.py:165: UserWarning: PySoundFile failed. Trying audioread instead.\n",
            "  warnings.warn(\"PySoundFile failed. Trying audioread instead.\")\n",
            "/usr/local/lib/python3.7/dist-packages/librosa/core/audio.py:165: UserWarning: PySoundFile failed. Trying audioread instead.\n",
            "  warnings.warn(\"PySoundFile failed. Trying audioread instead.\")\n",
            "/usr/local/lib/python3.7/dist-packages/librosa/core/audio.py:165: UserWarning: PySoundFile failed. Trying audioread instead.\n",
            "  warnings.warn(\"PySoundFile failed. Trying audioread instead.\")\n",
            "/usr/local/lib/python3.7/dist-packages/librosa/core/audio.py:165: UserWarning: PySoundFile failed. Trying audioread instead.\n",
            "  warnings.warn(\"PySoundFile failed. Trying audioread instead.\")\n"
          ],
          "name": "stdout"
        }
      ]
    },
    {
      "cell_type": "markdown",
      "metadata": {
        "id": "3Ki_P30yv0aH"
      },
      "source": [
        "6- Make ready preprocessed data"
      ]
    },
    {
      "cell_type": "code",
      "metadata": {
        "id": "onsmYMLOv4zC",
        "colab": {
          "base_uri": "https://localhost:8080/"
        },
        "outputId": "31fe60da-40a5-4832-f74d-c9db0aff0bbc"
      },
      "source": [
        "!wc -l  /content/ppoutout/metadata.txt\n",
        "!shuf /content/ppoutout/metadata.txt >> /content/ppoutout/metadata_shuf.txt"
      ],
      "execution_count": null,
      "outputs": [
        {
          "output_type": "stream",
          "text": [
            "350 /content/ppoutout/metadata.txt\n"
          ],
          "name": "stdout"
        }
      ]
    },
    {
      "cell_type": "markdown",
      "metadata": {
        "id": "-2mRfDZDwsj_"
      },
      "source": [
        "7- Use number above to make train and eval count data"
      ]
    },
    {
      "cell_type": "code",
      "metadata": {
        "id": "AC-lI-tAwQhL"
      },
      "source": [
        "!head -n 320 /content/ppoutout/metadata_shuf.txt > /content/ppoutout/metadata_train.txt\n",
        "!tail -n 30 /content/ppoutout/metadata_shuf.txt > /content/ppoutout/metadata_eval.txt"
      ],
      "execution_count": null,
      "outputs": []
    },
    {
      "cell_type": "markdown",
      "metadata": {
        "id": "9ED_apvXw0Mh"
      },
      "source": [
        "8- Now train data"
      ]
    },
    {
      "cell_type": "code",
      "metadata": {
        "id": "gZBrcleFw6Fs"
      },
      "source": [
        "!python -m tac2persian.train --config_path=\"/content/Tacotron-2-Persian/\""
      ],
      "execution_count": null,
      "outputs": []
    },
    {
      "cell_type": "code",
      "metadata": {
        "id": "bDdLoKuNGWzs"
      },
      "source": [
        "mv /content/gdrive/MyDrive/03.tar.gz /content/gdrive/MyDrive/dataset.tar"
      ],
      "execution_count": null,
      "outputs": []
    }
  ]
}