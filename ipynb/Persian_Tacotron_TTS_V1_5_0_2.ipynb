{
  "nbformat": 4,
  "nbformat_minor": 0,
  "metadata": {
    "colab": {
      "name": "Persian Tacotron TTS V1.0.0.0",
      "provenance": [],
      "collapsed_sections": []
    },
    "kernelspec": {
      "name": "python3",
      "display_name": "Python 3"
    },
    "language_info": {
      "name": "python"
    }
  },
  "cells": [
    {
      "cell_type": "code",
      "metadata": {
        "id": "zzQhrvhrmjba"
      },
      "source": [
        "rm -r /content/Tacotron-2-Persian/"
      ],
      "execution_count": null,
      "outputs": []
    },
    {
      "cell_type": "code",
      "metadata": {
        "id": "xFwQD5dcFJlj"
      },
      "source": [
        "ls"
      ],
      "execution_count": null,
      "outputs": []
    },
    {
      "cell_type": "code",
      "metadata": {
        "id": "tCoF3Av9i5Pi"
      },
      "source": [
        "!apt install espeak\n",
        "!pip install segments"
      ],
      "execution_count": null,
      "outputs": []
    },
    {
      "cell_type": "code",
      "metadata": {
        "id": "sMNeBbO5kXTd"
      },
      "source": [
        "from google.colab import drive\n",
        "drive.mount('/content/gdrive')"
      ],
      "execution_count": null,
      "outputs": []
    },
    {
      "cell_type": "code",
      "metadata": {
        "id": "5xp5SGuMkXe1"
      },
      "source": [
        "!git clone https://github.com/mvardin/Tacotron-2-Persian.git\n",
        "%cd Tacotron-2-Persian/"
      ],
      "execution_count": null,
      "outputs": []
    },
    {
      "cell_type": "code",
      "metadata": {
        "id": "bs1A8QLqkXhw"
      },
      "source": [
        "!python -m tac2persian.data_preprocessing.preprocess_commonvoice_fa --dataset_path=\"/content/gdrive/MyDrive/cv-corpus-7.0-2021-07-21/fa\" --output_path=\"/content/ppoutput\" --config_path=\"/content/Tacotron-2-Persian\" --num_workers=\"32\" --speaker=\"6516da9043b7ec881c4926e4ba16910e92cb918fc8ad92775ba2b70f3ac8cb6c9609992fade2ae3d4d41b467836e9fd07183a0f08ddbba43eb9440ac1ad0590d\""
      ],
      "execution_count": null,
      "outputs": []
    },
    {
      "cell_type": "code",
      "metadata": {
        "id": "raKUB98woqvo"
      },
      "source": [
        "import os\n",
        "os.path.isfile('/content/gdrive/MyDrive/cv-corpus-7.0-2021-07-21/fa/clips/common_voice_fa_23716752.mp3')"
      ],
      "execution_count": null,
      "outputs": []
    },
    {
      "cell_type": "code",
      "metadata": {
        "id": "DVUb9TT5kXk1"
      },
      "source": [
        "!wc -l  /content/ppoutput/metadata.txt\n",
        "!shuf /content/ppoutput/metadata.txt >> /content/ppoutput/metadata_shuf.txt"
      ],
      "execution_count": null,
      "outputs": []
    },
    {
      "cell_type": "code",
      "metadata": {
        "id": "FLRjuQ_ckXqo"
      },
      "source": [
        "!head -n 1300 /content/ppoutput/metadata_shuf.txt > /content/ppoutput/metadata_train.txt\n",
        "!tail -n 177 /content/ppoutput/metadata_shuf.txt > /content/ppoutput/metadata_eval.txt"
      ],
      "execution_count": null,
      "outputs": []
    },
    {
      "cell_type": "code",
      "metadata": {
        "colab": {
          "base_uri": "https://localhost:8080/"
        },
        "id": "HT3JicvQkX0c",
        "outputId": "d8acee98-c7a6-47e3-820d-a923132a475c"
      },
      "source": [
        "!python -m tac2persian.train --config_path=\"/content/Tacotron-2-Persian/\" --checkpoint_path=\"/content/gdrive/MyDrive/commonvoice_fa/checkpoints/checkpoint_3K.pt\" --output_path=\"/content/gdrive/MyDrive\" --dataset_path=\"/content/ppoutput\" --batch_size=32"
      ],
      "execution_count": null,
      "outputs": [
        {
          "output_type": "stream",
          "text": [
            "| Epoch: 21: (41/41) | avg. loss: 1.041 | l1: 0.6236 | mse: 0.3191 | bce: 0.01037 | step: 4k\n",
            "Evaluating epoch 21:\n",
            "Loss: 0.9089830575919733\n",
            "\n",
            "| Epoch: 22: (41/41) | avg. loss: 1.036 | l1: 0.6236 | mse: 0.3182 | bce: 0.01112 | step: 4k\n",
            "Evaluating epoch 22:\n",
            "Loss: 0.914343989476925\n",
            "\n",
            "| Epoch: 23: (18/41) | avg. loss: 1.025 | l1: 0.6458 | mse: 0.3419 | bce: 0.01697 | step: 4k"
          ],
          "name": "stdout"
        }
      ]
    }
  ]
}