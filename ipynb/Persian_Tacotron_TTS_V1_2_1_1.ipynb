{
  "nbformat": 4,
  "nbformat_minor": 0,
  "metadata": {
    "colab": {
      "name": "Persian Tacotron TTS V1.0.0.0",
      "provenance": [],
      "collapsed_sections": [],
      "authorship_tag": "ABX9TyMNHFHIEp2wLLD6Fc5UE6A9",
      "include_colab_link": true
    },
    "kernelspec": {
      "name": "python3",
      "display_name": "Python 3"
    },
    "language_info": {
      "name": "python"
    }
  },
  "cells": [
    {
      "cell_type": "markdown",
      "metadata": {
        "id": "view-in-github",
        "colab_type": "text"
      },
      "source": [
        "<a href=\"https://colab.research.google.com/github/mvardin/Tacotron-2-Persian/blob/master/Persian_Tacotron_TTS_V1_2_1_1.ipynb\" target=\"_parent\"><img src=\"https://colab.research.google.com/assets/colab-badge.svg\" alt=\"Open In Colab\"/></a>"
      ]
    },
    {
      "cell_type": "code",
      "metadata": {
        "id": "zzQhrvhrmjba"
      },
      "source": [
        "rm -r Tacotron-2-Persian/"
      ],
      "execution_count": 18,
      "outputs": []
    },
    {
      "cell_type": "code",
      "metadata": {
        "id": "tCoF3Av9i5Pi"
      },
      "source": [
        "!apt install espeak\n",
        "!apt-get install -y aria2\n",
        "!pip install segments"
      ],
      "execution_count": null,
      "outputs": []
    },
    {
      "cell_type": "code",
      "metadata": {
        "id": "sMNeBbO5kXTd"
      },
      "source": [
        "from google.colab import drive\n",
        "drive.mount('/content/gdrive')"
      ],
      "execution_count": null,
      "outputs": []
    },
    {
      "cell_type": "code",
      "metadata": {
        "id": "5xp5SGuMkXe1"
      },
      "source": [
        "!git clone https://github.com/mvardin/Tacotron-2-Persian.git\n",
        "%cd Tacotron-2-Persian/"
      ],
      "execution_count": null,
      "outputs": []
    },
    {
      "cell_type": "code",
      "metadata": {
        "id": "bs1A8QLqkXhw"
      },
      "source": [
        "!python -m tac2persian.data_preprocessing.preprocess_commonvoice_fa --dataset_path=\"/content/gdrive/MyDrive/cv-corpus-7.0-2021-07-21/fa\" --output_path=\"/content/ppoutput\" --config_path=\"/content/Tacotron-2-Persian\" --num_workers=\"32\" --speaker=\"6516da9043b7ec881c4926e4ba16910e92cb918fc8ad92775ba2b70f3ac8cb6c9609992fade2ae3d4d41b467836e9fd07183a0f08ddbba43eb9440ac1ad0590d\""
      ],
      "execution_count": null,
      "outputs": []
    },
    {
      "cell_type": "code",
      "metadata": {
        "id": "raKUB98woqvo"
      },
      "source": [
        "import os\n",
        "os.path.isfile('/content/gdrive/MyDrive/cv-corpus-7.0-2021-07-21/fa/clips/common_voice_fa_23716752.mp3')"
      ],
      "execution_count": null,
      "outputs": []
    },
    {
      "cell_type": "code",
      "metadata": {
        "id": "DVUb9TT5kXk1"
      },
      "source": [
        "!wc -l  /content/ppoutput/metadata.txt\n",
        "!shuf /content/ppoutput/metadata.txt >> /content/ppoutput/metadata_shuf.txt"
      ],
      "execution_count": null,
      "outputs": []
    },
    {
      "cell_type": "code",
      "metadata": {
        "id": "FLRjuQ_ckXqo"
      },
      "source": [
        "!head -n 1300 /content/ppoutput/metadata_shuf.txt > /content/ppoutput/metadata_train.txt\n",
        "!tail -n 177 /content/ppoutput/metadata_shuf.txt > /content/ppoutput/metadata_eval.txt"
      ],
      "execution_count": null,
      "outputs": []
    },
    {
      "cell_type": "code",
      "metadata": {
        "colab": {
          "base_uri": "https://localhost:8080/"
        },
        "id": "HT3JicvQkX0c",
        "outputId": "1a699164-2f42-4913-badc-d95cc8e8b3cf"
      },
      "source": [
        "!python -m tac2persian.train --config_path=\"/content/Tacotron-2-Persian/\" --checkpoint_path=\"/content/gdrive/MyDrive/commonvoice_fa/checkpoints/checkpoint_1K.pt\" --output_path=\"/content/gdrive/MyDrive\""
      ],
      "execution_count": null,
      "outputs": [
        {
          "output_type": "stream",
          "text": [
            "2021-08-08 07:40:26.638894: I tensorflow/stream_executor/platform/default/dso_loader.cc:53] Successfully opened dynamic library libcudart.so.11.0\n",
            "Loading data from commonvoice_fa\n",
            "Initially found 1300 items in the dataset.\n",
            "Number of items in the dataset after removing long mels :1300\n",
            "\n",
            "/usr/local/lib/python3.7/dist-packages/torch/utils/data/dataloader.py:481: UserWarning: This DataLoader will create 3 worker processes in total. Our suggested max number of worker in current system is 2, which is smaller than what this DataLoader is going to create. Please be aware that excessive worker creation might get DataLoader running slow or even freeze, lower the worker number to avoid potential slowness/freeze if necessary.\n",
            "  cpuset_checked))\n",
            "Loading data from commonvoice_fa\n",
            "Initially found 1300 items in the dataset.\n",
            "Number of items in the dataset after removing long mels :1300\n",
            "\n",
            "| Epoch: 1: (130/130) | avg. loss: 1.348 | l1: 0.7863 | mse: 0.5206 | bce: 0.01427 | step: 1k\n",
            "Evaluating epoch 1:\n",
            "Loss: 1.1380781641373268\n",
            "\n",
            "| Epoch: 2: (130/130) | avg. loss: 1.329 | l1: 0.7717 | mse: 0.5020 | bce: 0.01638 | step: 2k\n",
            "Evaluating epoch 2:\n",
            "Loss: 1.1320918046511137\n",
            "\n",
            "| Epoch: 3: (130/130) | avg. loss: 1.314 | l1: 0.7572 | mse: 0.4843 | bce: 0.01319 | step: 2k\n",
            "Evaluating epoch 3:\n",
            "Loss: 1.1034995097380418\n",
            "\n",
            "| Epoch: 4: (95/130) | avg. loss: 1.293 | l1: 0.7684 | mse: 0.5062 | bce: 0.01605 | step: 2k"
          ],
          "name": "stdout"
        }
      ]
    }
  ]
}