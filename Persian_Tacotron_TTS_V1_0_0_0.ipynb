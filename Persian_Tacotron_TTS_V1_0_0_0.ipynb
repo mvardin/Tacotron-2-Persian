{
  "nbformat": 4,
  "nbformat_minor": 0,
  "metadata": {
    "colab": {
      "name": "Persian Tacotron TTS V1.0.0.0",
      "provenance": [],
      "collapsed_sections": [],
      "authorship_tag": "ABX9TyMPCsPKBwUDTVHgp0cU+vqu",
      "include_colab_link": true
    },
    "kernelspec": {
      "name": "python3",
      "display_name": "Python 3"
    },
    "language_info": {
      "name": "python"
    }
  },
  "cells": [
    {
      "cell_type": "markdown",
      "metadata": {
        "id": "view-in-github",
        "colab_type": "text"
      },
      "source": [
        "<a href=\"https://colab.research.google.com/github/mvardin/Tacotron-2-Persian/blob/master/Persian_Tacotron_TTS_V1_0_0_0.ipynb\" target=\"_parent\"><img src=\"https://colab.research.google.com/assets/colab-badge.svg\" alt=\"Open In Colab\"/></a>"
      ]
    },
    {
      "cell_type": "code",
      "metadata": {
        "id": "tCoF3Av9i5Pi"
      },
      "source": [
        "!apt install espeak\n",
        "!apt-get install -y aria2\n",
        "!pip install segments"
      ],
      "execution_count": null,
      "outputs": []
    },
    {
      "cell_type": "code",
      "metadata": {
        "id": "sMNeBbO5kXTd"
      },
      "source": [
        "from google.colab import drive\n",
        "drive.mount('/content/gdrive')"
      ],
      "execution_count": null,
      "outputs": []
    },
    {
      "cell_type": "code",
      "metadata": {
        "id": "5xp5SGuMkXe1"
      },
      "source": [
        "!git clone https://github.com/mvardin/Tacotron-2-Persian.git\n",
        "%cd Tacotron-2-Persian/"
      ],
      "execution_count": null,
      "outputs": []
    },
    {
      "cell_type": "code",
      "metadata": {
        "id": "bs1A8QLqkXhw"
      },
      "source": [
        "!python -m tac2persian.data_preprocessing.preprocess_commonvoice_fa --dataset_path=\"/content/gdrive/MyDrive/cv-corpus-7.0-2021-07-21/fa\" --output_path=\"/content/ppoutout\" --config_path=\"/content/Tacotron-2-Persian\" --num_workers=\"32\" --speaker=\"6516da9043b7ec881c4926e4ba16910e92cb918fc8ad92775ba2b70f3ac8cb6c9609992fade2ae3d4d41b467836e9fd07183a0f08ddbba43eb9440ac1ad0590d\""
      ],
      "execution_count": null,
      "outputs": []
    },
    {
      "cell_type": "code",
      "metadata": {
        "colab": {
          "base_uri": "https://localhost:8080/"
        },
        "id": "raKUB98woqvo",
        "outputId": "a7c49224-05a3-4248-dcc1-961811e04c1d"
      },
      "source": [
        "import os\n",
        "os.path.isfile('/content/gdrive/MyDrive/cv-corpus-7.0-2021-07-21/fa/clips/common_voice_fa_23716752.mp3')"
      ],
      "execution_count": 8,
      "outputs": [
        {
          "output_type": "execute_result",
          "data": {
            "text/plain": [
              "False"
            ]
          },
          "metadata": {
            "tags": []
          },
          "execution_count": 8
        }
      ]
    },
    {
      "cell_type": "code",
      "metadata": {
        "colab": {
          "base_uri": "https://localhost:8080/"
        },
        "id": "DVUb9TT5kXk1",
        "outputId": "68f28545-af1a-41ac-930e-c4da977ea746"
      },
      "source": [
        "!wc -l  /content/ppoutput/metadata.txt\n",
        "!shuf /content/ppoutput/metadata.txt >> /content/ppoutput/metadata_shuf.txt"
      ],
      "execution_count": 10,
      "outputs": [
        {
          "output_type": "stream",
          "text": [
            "1477 /content/ppoutout/metadata.txt\n"
          ],
          "name": "stdout"
        }
      ]
    },
    {
      "cell_type": "code",
      "metadata": {
        "id": "FLRjuQ_ckXqo"
      },
      "source": [
        "!head -n 1300 /content/ppoutput/metadata_shuf.txt > /content/ppoutput/metadata_train.txt\n",
        "!tail -n 177 /content/ppoutput/metadata_shuf.txt > /content/ppoutput/metadata_eval.txt"
      ],
      "execution_count": 12,
      "outputs": []
    },
    {
      "cell_type": "code",
      "metadata": {
        "colab": {
          "base_uri": "https://localhost:8080/"
        },
        "id": "HT3JicvQkX0c",
        "outputId": "b42d8040-4a1f-4cf3-878a-b4ffa2961888"
      },
      "source": [
        "!python -m tac2persian.train --config_path=\"/content/Tacotron-2-Persian/\" --last_epoch=0 --output_path=\"/content/gdrive/MyDrive\""
      ],
      "execution_count": null,
      "outputs": [
        {
          "output_type": "stream",
          "text": [
            "| Epoch: 0: (50/130) | avg. loss: 5.975 | l1: 1.358 | mse: 1.561 | bce: 0.05666 | step: 0k"
          ],
          "name": "stdout"
        }
      ]
    }
  ]
}