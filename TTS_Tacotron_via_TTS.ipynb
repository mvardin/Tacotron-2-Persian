{
  "nbformat": 4,
  "nbformat_minor": 0,
  "metadata": {
    "colab": {
      "name": "TTS Tacotron  via TTS",
      "provenance": [],
      "authorship_tag": "ABX9TyMN9YnLw8BuBnDJP+z/oH/3",
      "include_colab_link": true
    },
    "kernelspec": {
      "name": "python3",
      "display_name": "Python 3"
    },
    "language_info": {
      "name": "python"
    }
  },
  "cells": [
    {
      "cell_type": "markdown",
      "metadata": {
        "id": "view-in-github",
        "colab_type": "text"
      },
      "source": [
        "<a href=\"https://colab.research.google.com/github/mvardin/Tacotron-2-Persian/blob/master/TTS_Tacotron_via_TTS.ipynb\" target=\"_parent\"><img src=\"https://colab.research.google.com/assets/colab-badge.svg\" alt=\"Open In Colab\"/></a>"
      ]
    },
    {
      "cell_type": "code",
      "metadata": {
        "id": "ypF5tIgUt9r8"
      },
      "source": [
        "!apt install espeak\n",
        "!apt-get install -y aria2\n",
        "!pip install segments\n",
        "!sudo apt-get install espeak-ng"
      ],
      "execution_count": null,
      "outputs": []
    },
    {
      "cell_type": "code",
      "metadata": {
        "colab": {
          "base_uri": "https://localhost:8080/"
        },
        "id": "fxNpMcsouPNg",
        "outputId": "73846037-9634-4c43-82ad-f48b5003b7d8"
      },
      "source": [
        "from google.colab import drive\n",
        "drive.mount('/content/gdrive')"
      ],
      "execution_count": null,
      "outputs": [
        {
          "output_type": "stream",
          "text": [
            "Mounted at /content/gdrive\n"
          ],
          "name": "stdout"
        }
      ]
    },
    {
      "cell_type": "code",
      "metadata": {
        "id": "ItYNh2ql0Qj7"
      },
      "source": [
        "!git clone https://github.com/mozilla/TTS.git\n",
        "!git clone https://github.com/mvardin/Tacotron-2-Persian.git"
      ],
      "execution_count": null,
      "outputs": []
    },
    {
      "cell_type": "code",
      "metadata": {
        "id": "-sr0SryLuSI_"
      },
      "source": [
        "%cd Tacotron-2-Persian/"
      ],
      "execution_count": null,
      "outputs": []
    },
    {
      "cell_type": "code",
      "metadata": {
        "id": "UwfVzVgWuTmH"
      },
      "source": [
        "!python -m tac2persian.data_preprocessing.preprocess_commonvoice_fa --dataset_path=\"/content/gdrive/MyDrive/cv-corpus-7.0-2021-07-21/fa\" --output_path=\"/content/ppoutout/01\" --config_path=\"/content/Tacotron-2-Persian\" --num_workers=\"32\""
      ],
      "execution_count": null,
      "outputs": []
    },
    {
      "cell_type": "code",
      "metadata": {
        "colab": {
          "base_uri": "https://localhost:8080/"
        },
        "id": "h_pYtlvSuUXh",
        "outputId": "48cf3d51-ddb5-45d1-cb4d-46738371a5aa"
      },
      "source": [
        "!wc -l  /content/ppoutout/01/metadata.txt\n",
        "!shuf /content/ppoutout/01/metadata.txt >> /content/ppoutout/01/metadata_shuf.txt"
      ],
      "execution_count": null,
      "outputs": [
        {
          "output_type": "stream",
          "text": [
            "350 /content/ppoutout/01/metadata.txt\n"
          ],
          "name": "stdout"
        }
      ]
    },
    {
      "cell_type": "code",
      "metadata": {
        "id": "N9VculhGuXn5"
      },
      "source": [
        "!head -n 320 /content/ppoutout/01/metadata_shuf.txt > /content/ppoutout/01/metadata_train.txt\n",
        "!tail -n 30 /content/ppoutout/01/metadata_shuf.txt > /content/ppoutout/01/metadata_eval.txt"
      ],
      "execution_count": null,
      "outputs": []
    },
    {
      "cell_type": "code",
      "metadata": {
        "id": "2gI5lKBp0X2F"
      },
      "source": [
        "%cd .."
      ],
      "execution_count": null,
      "outputs": []
    },
    {
      "cell_type": "code",
      "metadata": {
        "id": "glU7poHVu6Gj"
      },
      "source": [
        "%cd TTS\n",
        "# install TTS requirements\n",
        "!pip install -e ."
      ],
      "execution_count": null,
      "outputs": []
    },
    {
      "cell_type": "code",
      "metadata": {
        "id": "yCf_9UL_u941"
      },
      "source": [
        "# load the default config file and update with the local paths and settings.\n",
        "import json\n",
        "from TTS.utils.io import load_config\n",
        "CONFIG = load_config('/content/TTS/TTS/tts/configs/config.json')\n",
        "CONFIG['datasets'][0]['path'] = '/content/ppoutout/'  # set the target dataset to the LJSpeech\n",
        "CONFIG['audio']['stats_path'] = None  # do not use mean and variance stats to normalizat spectrograms. Mean and variance stats need to be computed separately. \n",
        "CONFIG['output_path'] = '/content/trainout/'\n",
        "with open('config.json', 'w') as fp:\n",
        "    json.dump(CONFIG, fp)"
      ],
      "execution_count": null,
      "outputs": []
    },
    {
      "cell_type": "code",
      "metadata": {
        "colab": {
          "base_uri": "https://localhost:8080/"
        },
        "id": "bgbRZnASvBap",
        "outputId": "5220655a-82ca-447b-fc4e-6f9a09d151cd"
      },
      "source": [
        "!CUDA_VISIBLE_DEVICES=\"0\" python TTS/bin/train_tacotron.py --config_path config.json | tee training.log"
      ],
      "execution_count": null,
      "outputs": [
        {
          "output_type": "stream",
          "text": [
            "Traceback (most recent call last):\n",
            "  File \"TTS/bin/train_tacotron.py\", line 15, in <module>\n",
            "    from TTS.tts.datasets.preprocess import load_meta_data\n",
            "ModuleNotFoundError: No module named 'TTS'\n"
          ],
          "name": "stdout"
        }
      ]
    }
  ]
}