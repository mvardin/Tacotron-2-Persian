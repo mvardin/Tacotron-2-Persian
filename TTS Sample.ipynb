{
  "nbformat": 4,
  "nbformat_minor": 0,
  "metadata": {
    "colab": {
      "name": "Welcome To Colaboratory",
      "provenance": [],
      "collapsed_sections": [],
      "include_colab_link": true
    },
    "kernelspec": {
      "display_name": "Python 3",
      "name": "python3"
    }
  },
  "cells": [
    {
      "cell_type": "markdown",
      "metadata": {
        "id": "view-in-github",
        "colab_type": "text"
      },
      "source": [
        "<a href=\"https://colab.research.google.com/github/mvardin/Tacotron-2-Persian/blob/master/TTS%20Sample.ipynb\" target=\"_parent\"><img src=\"https://colab.research.google.com/assets/colab-badge.svg\" alt=\"Open In Colab\"/></a>"
      ]
    },
    {
      "cell_type": "code",
      "metadata": {
        "id": "DP6gPvadxLei"
      },
      "source": [
        "!pip install TTS"
      ],
      "execution_count": null,
      "outputs": []
    },
    {
      "cell_type": "code",
      "metadata": {
        "id": "g_YhAjgmxzCD",
        "outputId": "7f3a046b-7066-4489-b43b-94ba5ec2d3ee",
        "colab": {
          "base_uri": "https://localhost:8080/"
        }
      },
      "source": [
        "!tts --list_models"
      ],
      "execution_count": 10,
      "outputs": [
        {
          "output_type": "stream",
          "text": [
            " Name format: type/language/dataset/model\n",
            " >: tts_models/en/ek1/tacotron2 [already downloaded]\n",
            " >: tts_models/en/ljspeech/tacotron2-DDC\n",
            " >: tts_models/en/ljspeech/glow-tts\n",
            " >: tts_models/en/ljspeech/tacotron2-DCA\n",
            " >: tts_models/en/ljspeech/speedy-speech-wn\n",
            " >: tts_models/en/vctk/sc-glow-tts\n",
            " >: tts_models/en/sam/tacotron-DDC\n",
            " >: tts_models/es/mai/tacotron2-DDC\n",
            " >: tts_models/fr/mai/tacotron2-DDC\n",
            " >: tts_models/zh-CN/baker/tacotron2-DDC-GST\n",
            " >: tts_models/nl/mai/tacotron2-DDC\n",
            " >: tts_models/ru/ruslan/tacotron2-DDC\n",
            " >: tts_models/de/thorsten/tacotron2-DCA\n",
            " >: tts_models/ja/kokoro/tacotron2-DDC\n",
            " >: vocoder_models/universal/libri-tts/wavegrad\n",
            " >: vocoder_models/universal/libri-tts/fullband-melgan\n",
            " >: vocoder_models/en/ek1/wavegrad [already downloaded]\n",
            " >: vocoder_models/en/ljspeech/multiband-melgan\n",
            " >: vocoder_models/en/ljspeech/hifigan_v2\n",
            " >: vocoder_models/en/vctk/hifigan_v2\n",
            " >: vocoder_models/en/sam/hifigan_v2\n",
            " >: vocoder_models/nl/mai/parallel-wavegan\n",
            " >: vocoder_models/de/thorsten/wavegrad\n",
            " >: vocoder_models/de/thorsten/fullband-melgan\n"
          ],
          "name": "stdout"
        }
      ]
    },
    {
      "cell_type": "code",
      "metadata": {
        "id": "8rt7knoKx5Nx",
        "outputId": "922e28de-766f-40ce-e686-b0944ef6413e",
        "colab": {
          "base_uri": "https://localhost:8080/"
        }
      },
      "source": [
        "!tts --text \"hello aria\" --model_name \"tts_models/en/ek1/tacotron2\" --vocoder_name \"!tts --text \"hello aria\" --model_name \"tts_models/en/ek1/tacotron2\"  --out_path /content/test1.wav\" --out_path /content/test1.wav"
      ],
      "execution_count": 9,
      "outputs": [
        {
          "output_type": "stream",
          "text": [
            " > tts_models/en/ek1/tacotron2 is already downloaded.\n",
            " > vocoder_models/en/ek1/wavegrad is already downloaded.\n",
            " > Using model: Tacotron2\n",
            " > Vocoder Model: wavegrad\n",
            " > Text: hello aria\n",
            " > Text splitted to sentences.\n",
            "['hello aria']\n",
            " > Phonemes: h|ə|l|oʊ| ɛ|ɹ|i|ə\n",
            " > Processing time: 29.70137047767639\n",
            " > Real-time factor: 26.35685846075195\n",
            " > Saving output to /content/test1.wav\n"
          ],
          "name": "stdout"
        }
      ]
    }
  ]
}