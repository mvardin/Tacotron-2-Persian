{
  "nbformat": 4,
  "nbformat_minor": 0,
  "metadata": {
    "colab": {
      "name": "Tocatron2-Persian",
      "provenance": [],
      "collapsed_sections": [],
      "include_colab_link": true
    },
    "kernelspec": {
      "display_name": "Python 3",
      "name": "python3"
    },
    "accelerator": "TPU"
  },
  "cells": [
    {
      "cell_type": "markdown",
      "metadata": {
        "id": "view-in-github",
        "colab_type": "text"
      },
      "source": [
        "<a href=\"https://colab.research.google.com/github/mvardin/Tacotron-2-Persian/blob/master/Tocatron2_Persian.ipynb\" target=\"_parent\"><img src=\"https://colab.research.google.com/assets/colab-badge.svg\" alt=\"Open In Colab\"/></a>"
      ]
    },
    {
      "cell_type": "markdown",
      "metadata": {
        "id": "gPvzp_BCkk-4"
      },
      "source": [
        "1- Install requirements\n"
      ]
    },
    {
      "cell_type": "code",
      "metadata": {
        "id": "0xO3ZixTrbkW"
      },
      "source": [
        "!apt install espeak\n",
        "!apt-get install -y aria2\n",
        "!pip install segments"
      ],
      "execution_count": null,
      "outputs": []
    },
    {
      "cell_type": "markdown",
      "metadata": {
        "id": "lzRjPI70mozE"
      },
      "source": [
        "2- Download CommonVoice dataset from server"
      ]
    },
    {
      "cell_type": "code",
      "metadata": {
        "id": "00c11OM63ZyY"
      },
      "source": [
        "from google.colab import drive\n",
        "drive.mount('/content/gdrive')"
      ],
      "execution_count": null,
      "outputs": []
    },
    {
      "cell_type": "code",
      "metadata": {
        "id": "Dc8eclgqmtcs"
      },
      "source": [
        "!aria2c -d ./ -x 16 \"https://***/temp/01.rar\""
      ],
      "execution_count": null,
      "outputs": []
    },
    {
      "cell_type": "markdown",
      "metadata": {
        "id": "HlUadn3unJ2x"
      },
      "source": [
        "3- Extract tar file"
      ]
    },
    {
      "cell_type": "code",
      "metadata": {
        "id": "wzesPl9qoTAI"
      },
      "source": [
        "!mv /content/01.rar /content/gdrive/MyDrive/dataset.tar\n",
        "!tar -zxvf /content/gdrive/MyDrive/dataset.tar"
      ],
      "execution_count": null,
      "outputs": []
    },
    {
      "cell_type": "markdown",
      "metadata": {
        "id": "CJecw2iMpUuA"
      },
      "source": [
        "4- Clone tac2persian repository"
      ]
    },
    {
      "cell_type": "code",
      "metadata": {
        "id": "NHTiafripcL7"
      },
      "source": [
        "!git clone https://github.com/mvardin/Tacotron-2-Persian.git\n",
        "%cd Tacotron-2-Persian/"
      ],
      "execution_count": null,
      "outputs": []
    },
    {
      "cell_type": "markdown",
      "metadata": {
        "id": "tMqbKx12sRdZ"
      },
      "source": [
        "5- Preprocess dataset"
      ]
    },
    {
      "cell_type": "code",
      "metadata": {
        "id": "VEK4rwHtqQfw"
      },
      "source": [
        "!python -m tac2persian.data_preprocessing.preprocess_commonvoice_fa --dataset_path=\"/content/cv-corpus-6.1-2020-12-11/fa\" --output_path=\"/content/ppoutout\" --config_path=\"/content/Tacotron-2-Persian\" --num_workers=\"10\""
      ],
      "execution_count": null,
      "outputs": []
    },
    {
      "cell_type": "markdown",
      "metadata": {
        "id": "3Ki_P30yv0aH"
      },
      "source": [
        "6- Make ready preprocessed data"
      ]
    },
    {
      "cell_type": "code",
      "metadata": {
        "colab": {
          "base_uri": "https://localhost:8080/"
        },
        "id": "onsmYMLOv4zC",
        "outputId": "5f55f860-9ae9-422d-fb66-178d199bb491"
      },
      "source": [
        "!wc -l  /content/ppoutout/metadata.txt\n",
        "!shuf /content/ppoutout/metadata.txt >> /content/ppoutout/metadata_shuf.txt"
      ],
      "execution_count": 23,
      "outputs": [
        {
          "output_type": "stream",
          "text": [
            "2047 /content/ppoutout/metadata.txt\n"
          ],
          "name": "stdout"
        }
      ]
    },
    {
      "cell_type": "markdown",
      "metadata": {
        "id": "-2mRfDZDwsj_"
      },
      "source": [
        "7- Use number above to make train and eval count data"
      ]
    },
    {
      "cell_type": "code",
      "metadata": {
        "id": "AC-lI-tAwQhL"
      },
      "source": [
        "!head -n 1900 /content/ppoutout/metadata_shuf.txt > /content/ppoutout/metadata_train.txt\n",
        "!tail -n 147 /content/ppoutout/metadata_shuf.txt > /content/ppoutout/metadata_eval.txt"
      ],
      "execution_count": 25,
      "outputs": []
    },
    {
      "cell_type": "markdown",
      "metadata": {
        "id": "9ED_apvXw0Mh"
      },
      "source": [
        "8- Now train data"
      ]
    },
    {
      "cell_type": "code",
      "metadata": {
        "colab": {
          "base_uri": "https://localhost:8080/"
        },
        "id": "gZBrcleFw6Fs",
        "outputId": "52635100-50ba-40b7-b1d4-d7113666f720"
      },
      "source": [
        "!python -m tac2persian.train --config_path=\"/content/Tacotron-2-Persian/\""
      ],
      "execution_count": null,
      "outputs": [
        {
          "output_type": "stream",
          "text": [
            "2021-08-03 12:09:39.297990: I tensorflow/stream_executor/platform/default/dso_loader.cc:53] Successfully opened dynamic library libcudart.so.11.0\n",
            "Loading data from commonvoice_fa\n",
            "Initially found 1900 items in the dataset.\n",
            "Number of items in the dataset after removing long mels :1900\n",
            "\n",
            "/usr/local/lib/python3.7/dist-packages/torch/utils/data/dataloader.py:481: UserWarning: This DataLoader will create 3 worker processes in total. Our suggested max number of worker in current system is 2, which is smaller than what this DataLoader is going to create. Please be aware that excessive worker creation might get DataLoader running slow or even freeze, lower the worker number to avoid potential slowness/freeze if necessary.\n",
            "  cpuset_checked))\n",
            "Loading data from commonvoice_fa\n",
            "Initially found 1900 items in the dataset.\n",
            "Number of items in the dataset after removing long mels :1900\n",
            "\n",
            "| Epoch: 0: (190/190) | avg. loss: 5.421 | l1: 2.183 | mse: 6.969 | bce: 0.01560 | step: 0k\n",
            "Evaluating epoch 0:\n",
            "Loss: 4.434601516472666\n",
            "\n",
            "| Epoch: 1: (69/190) | avg. loss: 3.665 | l1: 1.432 | mse: 1.605 | bce: 0.04243 | step: 0k"
          ],
          "name": "stdout"
        }
      ]
    }
  ]
}