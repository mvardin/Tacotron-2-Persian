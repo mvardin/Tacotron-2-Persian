{
  "nbformat": 4,
  "nbformat_minor": 0,
  "metadata": {
    "colab": {
      "name": "Tocatron2-Persian",
      "provenance": [],
      "collapsed_sections": [],
      "include_colab_link": true
    },
    "kernelspec": {
      "display_name": "Python 3",
      "name": "python3"
    },
    "accelerator": "GPU"
  },
  "cells": [
    {
      "cell_type": "markdown",
      "metadata": {
        "id": "view-in-github",
        "colab_type": "text"
      },
      "source": [
        "<a href=\"https://colab.research.google.com/github/mvardin/Tacotron-2-Persian/blob/master/Tocatron2_Persian.ipynb\" target=\"_parent\"><img src=\"https://colab.research.google.com/assets/colab-badge.svg\" alt=\"Open In Colab\"/></a>"
      ]
    },
    {
      "cell_type": "markdown",
      "metadata": {
        "id": "gPvzp_BCkk-4"
      },
      "source": [
        "1- Install requirements and connect to google drive\n"
      ]
    },
    {
      "cell_type": "code",
      "metadata": {
        "id": "0xO3ZixTrbkW"
      },
      "source": [
        "!apt install espeak\n",
        "!apt-get install -y aria2\n",
        "!pip install segments"
      ],
      "execution_count": null,
      "outputs": []
    },
    {
      "cell_type": "code",
      "metadata": {
        "id": "00c11OM63ZyY"
      },
      "source": [
        "from google.colab import drive\n",
        "drive.mount('/content/gdrive')"
      ],
      "execution_count": null,
      "outputs": []
    },
    {
      "cell_type": "markdown",
      "metadata": {
        "id": "5QTuMuhkdgG8"
      },
      "source": [
        "2- Download CommonVoice dataset from server\n",
        "\n",
        "**If file exist in your gdrive , skip this code"
      ]
    },
    {
      "cell_type": "code",
      "metadata": {
        "id": "Dc8eclgqmtcs"
      },
      "source": [
        "!aria2c -d ./ -x 16 \"https://drcaptcha.ir/temp/03.tar.gz\""
      ],
      "execution_count": null,
      "outputs": []
    },
    {
      "cell_type": "markdown",
      "metadata": {
        "id": "HlUadn3unJ2x"
      },
      "source": [
        "3- Extract tar file\n",
        "\n",
        "**If file exist in your gdrive , skip this code"
      ]
    },
    {
      "cell_type": "code",
      "metadata": {
        "id": "wzesPl9qoTAI"
      },
      "source": [
        "!tar -zxvf /content/gdrive/MyDrive/dataset.tar -C /content/gdrive/MyDrive/"
      ],
      "execution_count": null,
      "outputs": []
    },
    {
      "cell_type": "markdown",
      "metadata": {
        "id": "CJecw2iMpUuA"
      },
      "source": [
        "4- Clone tac2persian repository"
      ]
    },
    {
      "cell_type": "code",
      "metadata": {
        "id": "NHTiafripcL7"
      },
      "source": [
        "!git clone https://github.com/mvardin/Tacotron-2-Persian.git\n",
        "%cd Tacotron-2-Persian/"
      ],
      "execution_count": null,
      "outputs": []
    },
    {
      "cell_type": "markdown",
      "metadata": {
        "id": "tMqbKx12sRdZ"
      },
      "source": [
        "5- Preprocess dataset"
      ]
    },
    {
      "cell_type": "code",
      "metadata": {
        "id": "VEK4rwHtqQfw",
        "colab": {
          "base_uri": "https://localhost:8080/"
        },
        "outputId": "d4ae3879-afab-4c4b-a684-ab97bcb083e0"
      },
      "source": [
        "!python -m tac2persian.data_preprocessing.preprocess_commonvoice_fa --dataset_path=\"/content/gdrive/MyDrive/cv-corpus-6.1-2020-12-11/fa\" --output_path=\"/content/ppoutout\" --config_path=\"/content/Tacotron-2-Persian\" --num_workers=\"32\" --speaker=\"c02a93dd88299382b1f6efb2e26be36c9080c26ceafaae4f3d02f6f052a24f011ab053ea0ec2cc6e81a3f07fcaa6c8e23be42f8cb3e695176c99b5aba1f3fdd4\""
      ],
      "execution_count": null,
      "outputs": [
        {
          "output_type": "stream",
          "text": [
            "Preprocessing files for speaker 0/1\n",
            "Processing file 0/350\n",
            "Processing file 1/350\n",
            "Processing file 2/350\n",
            "Processing file 3/350\n",
            "Processing file 4/350\n",
            "Processing file 5/350\n",
            "Processing file 7/350\n",
            "Processing file 8/350\n",
            "Processing file 9/350\n",
            "Processing file 6/350\n",
            "Processing file 11/350\n",
            "Processing file 12/350\n",
            "Processing file 13/350\n",
            "Processing file 15/350\n",
            "Processing file 10/350\n",
            "Processing file 17/350\n",
            "Processing file 18/350\n",
            "Processing file 19/350\n",
            "Processing file 20/350\n",
            "Processing file 14/350\n",
            "Processing file 16/350\n",
            "Processing file 21/350\n",
            "Processing file 22/350\n",
            "Processing file 23/350\n",
            "Processing file 24/350\n",
            "Processing file 25/350\n",
            "Processing file 26/350\n",
            "Processing file 27/350\n",
            "Processing file 28/350\n",
            "Processing file 29/350\n",
            "Processing file 30/350\n",
            "Processing file 31/350\n"
          ],
          "name": "stdout"
        }
      ]
    },
    {
      "cell_type": "markdown",
      "metadata": {
        "id": "3Ki_P30yv0aH"
      },
      "source": [
        "6- Make ready preprocessed data"
      ]
    },
    {
      "cell_type": "code",
      "metadata": {
        "id": "onsmYMLOv4zC"
      },
      "source": [
        "!wc -l  /content/ppoutout/metadata.txt\n",
        "!shuf /content/ppoutout/metadata.txt >> /content/ppoutout/metadata_shuf.txt"
      ],
      "execution_count": null,
      "outputs": []
    },
    {
      "cell_type": "markdown",
      "metadata": {
        "id": "-2mRfDZDwsj_"
      },
      "source": [
        "7- Use number above to make train and eval count data"
      ]
    },
    {
      "cell_type": "code",
      "metadata": {
        "id": "AC-lI-tAwQhL"
      },
      "source": [
        "!head -n 320 /content/ppoutout/metadata_shuf.txt > /content/ppoutout/metadata_train.txt\n",
        "!tail -n 30 /content/ppoutout/metadata_shuf.txt > /content/ppoutout/metadata_eval.txt"
      ],
      "execution_count": null,
      "outputs": []
    },
    {
      "cell_type": "markdown",
      "metadata": {
        "id": "9ED_apvXw0Mh"
      },
      "source": [
        "8- Now train data"
      ]
    },
    {
      "cell_type": "code",
      "metadata": {
        "id": "gZBrcleFw6Fs"
      },
      "source": [
        "!python -m tac2persian.train --config_path=\"/content/Tacotron-2-Persian/\""
      ],
      "execution_count": null,
      "outputs": []
    },
    {
      "cell_type": "code",
      "metadata": {
        "id": "bDdLoKuNGWzs"
      },
      "source": [
        "rm -r cv-corpus-6.1-2020-12-11/"
      ],
      "execution_count": null,
      "outputs": []
    }
  ]
}