{
  "nbformat": 4,
  "nbformat_minor": 0,
  "metadata": {
    "colab": {
      "name": "Tocatron2-Persian",
      "provenance": [],
      "collapsed_sections": [],
      "include_colab_link": true
    },
    "kernelspec": {
      "display_name": "Python 3",
      "name": "python3"
    },
    "accelerator": "TPU"
  },
  "cells": [
    {
      "cell_type": "markdown",
      "metadata": {
        "id": "view-in-github",
        "colab_type": "text"
      },
      "source": [
        "<a href=\"https://colab.research.google.com/github/mvardin/Tacotron-2-Persian/blob/master/Tocatron2_Persian.ipynb\" target=\"_parent\"><img src=\"https://colab.research.google.com/assets/colab-badge.svg\" alt=\"Open In Colab\"/></a>"
      ]
    },
    {
      "cell_type": "markdown",
      "metadata": {
        "id": "gPvzp_BCkk-4"
      },
      "source": [
        "1- Install aria2 to download commonvoice dataset\n"
      ]
    },
    {
      "cell_type": "code",
      "metadata": {
        "id": "3fITvwrQkpFC"
      },
      "source": [
        "!apt-get install -y aria2"
      ],
      "execution_count": null,
      "outputs": []
    },
    {
      "cell_type": "markdown",
      "metadata": {
        "id": "lzRjPI70mozE"
      },
      "source": [
        "2- Download CommonVoice dataset from server"
      ]
    },
    {
      "cell_type": "code",
      "metadata": {
        "colab": {
          "base_uri": "https://localhost:8080/"
        },
        "id": "Dc8eclgqmtcs",
        "outputId": "3bf4b1cb-e05d-4e4e-e3bf-4d54ff50697d"
      },
      "source": [
        "!aria2c -d ./ -x 16 \"https://drcaptcha.ir/temp/01.rar\""
      ],
      "execution_count": null,
      "outputs": [
        {
          "output_type": "stream",
          "text": [
            "\n",
            "08/03 10:48:00 [\u001b[1;32mNOTICE\u001b[0m] Downloading 1 item(s)\n",
            " *** Download Progress Summary as of Tue Aug  3 10:49:01 2021 *** \n",
            "=\n",
            "[#2e3e23 0.9GiB/8.2GiB(11%) CN:5 DL:18MiB ETA:6m39s]\n",
            "FILE: .//01.rar\n",
            "-\n",
            "\n",
            " *** Download Progress Summary as of Tue Aug  3 10:50:02 2021 *** \n",
            "=\n",
            "[#2e3e23 2.0GiB/8.2GiB(24%) CN:5 DL:20MiB ETA:5m12s]\n",
            "FILE: .//01.rar\n",
            "-\n",
            "\n",
            " *** Download Progress Summary as of Tue Aug  3 10:51:02 2021 *** \n",
            "=\n",
            "[#2e3e23 3.2GiB/8.2GiB(38%) CN:5 DL:17MiB ETA:4m54s]\n",
            "FILE: .//01.rar\n",
            "-\n",
            "\n",
            " *** Download Progress Summary as of Tue Aug  3 10:52:03 2021 *** \n",
            "=\n",
            "[#2e3e23 4.3GiB/8.2GiB(52%) CN:5 DL:19MiB ETA:3m26s]\n",
            "FILE: .//01.rar\n",
            "-\n",
            "\n",
            " *** Download Progress Summary as of Tue Aug  3 10:53:04 2021 *** \n",
            "=\n",
            "[#2e3e23 5.4GiB/8.2GiB(65%) CN:5 DL:16MiB ETA:2m56s]\n",
            "FILE: .//01.rar\n",
            "-\n",
            "\n",
            " *** Download Progress Summary as of Tue Aug  3 10:54:04 2021 *** \n",
            "=\n",
            "[#2e3e23 6.4GiB/8.2GiB(77%) CN:5 DL:19MiB ETA:1m35s]\n",
            "FILE: .//01.rar\n",
            "-\n",
            "\n",
            " *** Download Progress Summary as of Tue Aug  3 10:55:04 2021 *** \n",
            "=\n",
            "[#2e3e23 7.2GiB/8.2GiB(87%) CN:5 DL:17MiB ETA:59s]\n",
            "FILE: .//01.rar\n",
            "-\n",
            "\n",
            "\u001b[0m"
          ],
          "name": "stdout"
        }
      ]
    },
    {
      "cell_type": "markdown",
      "metadata": {
        "id": "HlUadn3unJ2x"
      },
      "source": [
        "3- Extract tar file"
      ]
    },
    {
      "cell_type": "code",
      "metadata": {
        "id": "wzesPl9qoTAI"
      },
      "source": [
        "!mv 01.rar dataset.tar\n",
        "!tar -zxvf dataset.tar"
      ],
      "execution_count": null,
      "outputs": []
    }
  ]
}